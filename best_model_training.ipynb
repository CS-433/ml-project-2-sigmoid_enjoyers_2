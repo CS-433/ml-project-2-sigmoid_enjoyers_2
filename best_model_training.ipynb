{
 "cells": [
  {
   "cell_type": "markdown",
   "id": "7c2bb20b-2b1b-4186-bc30-57f3e6685905",
   "metadata": {},
   "source": [
    "# Imports / Setup"
   ]
  },
  {
   "cell_type": "code",
   "execution_count": 1,
   "id": "62b8aecc-dcb9-4cbf-9e6a-0280b3c12244",
   "metadata": {},
   "outputs": [],
   "source": [
    "import os\n",
    "os.environ[\"SM_FRAMEWORK\"] = \"tf.keras\"\n",
    "import random\n",
    "import numpy as np\n",
    "import matplotlib.pyplot as plt\n",
    "import matplotlib.patches as mpatches\n",
    "\n",
    "from glob import glob\n",
    "\n",
    "# PyTorch Libraries\n",
    "import torch\n",
    "import torch.nn as nn\n",
    "import torch.optim as optim\n",
    "from torch.utils.data import DataLoader, Dataset\n",
    "\n",
    "# Segmentation Model Files\n",
    "from ref_model_hypercol.models import UNetResNextHyperSE  # Adjust path as necessary\n",
    "from ref_model_hypercol.blocks import *  # For EncoderBlock, DecoderBlockV4, etc.\n",
    "\n",
    "#Evaluation\n",
    "from sklearn.metrics import jaccard_score\n",
    "\n",
    "#Self-written helper functions\n",
    "from helpers.general_helpers import *\n",
    "from helpers.hypercolumn_helpers import *"
   ]
  },
  {
   "cell_type": "code",
   "execution_count": 2,
   "id": "63cb2c5f-184c-48ea-abe3-27173c6b55c8",
   "metadata": {},
   "outputs": [],
   "source": [
    "#For reproducibility\n",
    "seed = 42\n",
    "np.random.seed(seed)\n",
    "random.seed(seed)\n",
    "if torch.cuda.is_available():\n",
    "    torch.cuda.manual_seed(seed)"
   ]
  },
  {
   "cell_type": "code",
   "execution_count": 3,
   "id": "4a15d3f5-e957-4a72-8a69-8416416fb2bf",
   "metadata": {},
   "outputs": [],
   "source": [
    "# Labels as categories\n",
    "label_names = [\n",
    "    \"Bad data\",\n",
    "    \"Snow and Ice\",\n",
    "    \"Wet ice and meltwater\",\n",
    "    \"Freshwater\",\n",
    "    \"Sediment\",\n",
    "    \"Bedrock\",\n",
    "    \"Vegetation\",\n",
    "    ]\n",
    "\n",
    "#Location of test files\n",
    "testimage_dir = './images/test/2023'\n",
    "label_test = './labels/test'\n",
    "\n",
    "# Get names of image and label files for test\n",
    "testimage_files = sorted(glob(os.path.join(testimage_dir, '*.tif')))\n",
    "testlabel_files = sorted(glob(os.path.join(label_test, '*.tif')))"
   ]
  },
  {
   "cell_type": "markdown",
   "id": "b192680f-8bd1-4108-9f84-64c986f91e15",
   "metadata": {},
   "source": [
    "# Reading data"
   ]
  },
  {
   "cell_type": "markdown",
   "id": "c456c368-c263-47a2-8e04-e999b8ff7776",
   "metadata": {
    "jp-MarkdownHeadingCollapsed": true
   },
   "source": [
    "## Data augmentation\n",
    "Run only once (in total for all notebooks). Saves the data in training-ready format to cache/"
   ]
  },
  {
   "cell_type": "code",
   "execution_count": null,
   "id": "bb56eb6d-b3fc-4c36-bffd-14bf9dd4c30d",
   "metadata": {},
   "outputs": [],
   "source": [
    "#%run data_preprocessing.ipynb"
   ]
  },
  {
   "cell_type": "markdown",
   "id": "ec9fcb0c-53fc-42bf-908a-46f2233bd453",
   "metadata": {
    "jp-MarkdownHeadingCollapsed": true
   },
   "source": [
    "## Training and Test Data\n",
    "Our best results were received on all of the data in an unaugmented state"
   ]
  },
  {
   "cell_type": "code",
   "execution_count": null,
   "id": "640408e8-c086-4ec8-be5a-ec08b14418eb",
   "metadata": {},
   "outputs": [],
   "source": [
    "# ALL YEARS DATA\n",
    "data = np.load(\"cache/unchanged_data_all_years.npz\")\n",
    "train_data_all_years = data['train_data']\n",
    "train_labels_all_years = data['train_labels']\n",
    "val_data_all_years = data['val_data']\n",
    "val_labels_all_years = data['val_labels']\n",
    "\n",
    "del data #For memory preservation\n",
    "\n",
    "#TEST DATA\n",
    "test_images = extract_channels(testimage_files)\n",
    "test_labels = extract_labels(testlabel_files)"
   ]
  },
  {
   "cell_type": "markdown",
   "id": "0c141da8-75a5-43ed-8a9a-16f05c6d1568",
   "metadata": {
    "jp-MarkdownHeadingCollapsed": true
   },
   "source": [
    "# Training"
   ]
  },
  {
   "cell_type": "markdown",
   "id": "62cccab0-1e44-4105-9cfb-edc3cad4b4c7",
   "metadata": {},
   "source": [
    "## Setting up model"
   ]
  },
  {
   "cell_type": "code",
   "execution_count": null,
   "id": "cb451581-fcd2-4272-9ec8-23bc29ff9c2e",
   "metadata": {},
   "outputs": [],
   "source": [
    "num_classes = 7  # number of segmentation labels\n",
    "input_channels = 7  # Number of channels in the input data\n",
    "\n",
    "# Instantiate the model\n",
    "model = UNetResNextHyperSE(\n",
    "    encoder_depth=50,  # Use SE-ResNeXt50 as the backbone\n",
    "    num_classes=num_classes,\n",
    "    num_filters=32,\n",
    "    is_deconv=True,\n",
    "    dropout_2d=0.2\n",
    ")\n",
    "\n",
    "# Transfer model to GPU if available\n",
    "device = torch.device(\"cuda\" if torch.cuda.is_available() else \"cpu\")\n",
    "model.to(device)\n",
    "\n",
    "print(\"Model successfully instantiated and moved to:\", device)"
   ]
  },
  {
   "cell_type": "code",
   "execution_count": null,
   "id": "1b0b93a8-7f44-4b4e-b5d6-89db99b9ee50",
   "metadata": {},
   "outputs": [],
   "source": [
    "# Convert your dataset into PyTorch-friendly format using a custom Dataset class\n",
    "class SegmentationDataset(Dataset):\n",
    "    \"\"\"\n",
    "    Custom PyTorch Dataset for Semantic Segmentation.\n",
    "    \"\"\"\n",
    "    def __init__(self, images, labels):\n",
    "        self.images = torch.tensor(images).float()  # Convert images to tensors\n",
    "        self.labels = torch.tensor(labels).long()   # Convert labels to tensors\n",
    "\n",
    "    def __len__(self):\n",
    "        return len(self.images)\n",
    "\n",
    "    def __getitem__(self, idx):\n",
    "        image = self.images[idx]\n",
    "        label = self.labels[idx]\n",
    "\n",
    "        # Transpose image to match PyTorch CHW format\n",
    "        image = image.permute(2, 0, 1)  # From HWC to CHW format\n",
    "\n",
    "        # Convert one-hot encoded labels to class indices\n",
    "        label = torch.argmax(label, dim=-1)  # Shape becomes [height, width]\n",
    "\n",
    "        return image, label\n",
    "\n",
    "\n",
    "# Create training and validation datasets, use: all data\n",
    "train_dataset = SegmentationDataset(train_data_all_years, train_labels_all_years)\n",
    "val_dataset = SegmentationDataset(val_data_all_years, val_labels_all_years)\n",
    "\n",
    "# Create DataLoaders\n",
    "batch_size = 16\n",
    "train_loader = DataLoader(train_dataset, batch_size=batch_size, shuffle=True)\n",
    "val_loader = DataLoader(val_dataset, batch_size=batch_size)\n",
    "print(\"DataLoader successfully created.\")"
   ]
  },
  {
   "cell_type": "code",
   "execution_count": null,
   "id": "f02c9f2f-3a8b-4219-bbb5-2c09ec1bde43",
   "metadata": {},
   "outputs": [],
   "source": [
    "# Define loss function and optimizer\n",
    "criterion = nn.CrossEntropyLoss()  # Use CrossEntropyLoss for multi-class segmentation\n",
    "optimizer = optim.Adam(model.parameters(), lr=0.001)  # Adam optimizer with default learning rate"
   ]
  },
  {
   "cell_type": "markdown",
   "id": "da6309f6-c1ce-4ecb-97f6-bea3cb52fa7c",
   "metadata": {},
   "source": [
    "## Training loop"
   ]
  },
  {
   "cell_type": "code",
   "execution_count": null,
   "id": "93e95ab4-33a6-4fca-9b79-3d30509121a1",
   "metadata": {},
   "outputs": [],
   "source": [
    "# Folder for saving performance metrics\n",
    "folder = \"best_model_training_logs/all_data_performance/\"\n",
    "\n",
    "# Clear the metric files before training\n",
    "with open(folder + \"train_losses.txt\", \"w\") as f:\n",
    "    pass\n",
    "with open(folder + \"train_accuracies.txt\", \"w\") as f:\n",
    "    pass\n",
    "with open(folder + \"val_losses.txt\", \"w\") as f:\n",
    "    pass\n",
    "with open(folder + \"val_accuracies.txt\", \"w\") as f:\n",
    "    pass\n",
    "\n",
    "# Initialize lists to store metrics for later analysis\n",
    "train_losses = []\n",
    "train_accuracies = []\n",
    "val_losses = []\n",
    "val_accuracies = []\n",
    "\n",
    "# Training loop\n",
    "num_epochs = 20\n",
    "best_val_loss = float('inf')  # Track the best validation loss\n",
    "\n",
    "for epoch in range(1, num_epochs + 1):\n",
    "    model.train()  # Set the model to training mode\n",
    "    train_loss = 0.0\n",
    "    correct_train = 0\n",
    "    total_train = 0\n",
    "\n",
    "    print(f\"\\nEpoch {epoch}/{num_epochs}\")\n",
    "    print(\"-\" * 40)\n",
    "\n",
    "    for batch_idx, (images, labels) in enumerate(train_loader):\n",
    "        images, labels = images.to(device), labels.to(device)  # Move data to GPU/CPU\n",
    "        optimizer.zero_grad()  # Reset gradients\n",
    "        outputs = model(images)  # Forward pass\n",
    "        loss = criterion(outputs, labels)  # Compute loss\n",
    "        loss.backward()  # Backward pass\n",
    "        optimizer.step()  # Update weights\n",
    "\n",
    "        train_loss += loss.item()\n",
    "        preds = outputs.argmax(dim=1)  # Get class predictions\n",
    "        correct_train += (preds == labels).sum().item()\n",
    "        total_train += labels.numel()\n",
    "\n",
    "        # Batch accuracy\n",
    "        batch_accuracy = (preds == labels).sum().item() / labels.numel()\n",
    "\n",
    "        # Print batch-level progress with accuracy\n",
    "        if (batch_idx + 1) % 10 == 0:\n",
    "            print(\n",
    "                f\"Batch [{batch_idx+1}/{len(train_loader)}]: \"\n",
    "                f\"Loss = {loss.item():.4f}, Accuracy = {batch_accuracy:.4f}\"\n",
    "            )\n",
    "\n",
    "    # Calculate average training loss and accuracy\n",
    "    avg_train_loss = train_loss / len(train_loader)\n",
    "    train_accuracy = correct_train / total_train\n",
    "\n",
    "    # Save training metrics\n",
    "    train_losses.append(avg_train_loss)\n",
    "    train_accuracies.append(train_accuracy)\n",
    "\n",
    "    # Validation loop\n",
    "    model.eval()  # Set the model to evaluation mode\n",
    "    val_loss = 0.0\n",
    "    correct_val = 0\n",
    "    total_val = 0\n",
    "    with torch.no_grad():\n",
    "        for batch_idx, (images, labels) in enumerate(val_loader):\n",
    "            images, labels = images.to(device), labels.to(device)\n",
    "            outputs = model(images)\n",
    "            loss = criterion(outputs, labels)\n",
    "\n",
    "            val_loss += loss.item()\n",
    "            preds = outputs.argmax(dim=1)  # Get class predictions\n",
    "            correct_val += (preds == labels).sum().item()\n",
    "            total_val += labels.numel()\n",
    "\n",
    "            # Batch accuracy for validation\n",
    "            val_batch_accuracy = (preds == labels).sum().item() / labels.numel()\n",
    "\n",
    "            # Print validation progress with accuracy\n",
    "            if (batch_idx + 1) % 5 == 0:\n",
    "                print(\n",
    "                    f\"Validation Batch [{batch_idx+1}/{len(val_loader)}]: \"\n",
    "                    f\"Loss = {loss.item():.4f}, Accuracy = {val_batch_accuracy:.4f}\"\n",
    "                )\n",
    "\n",
    "    # Calculate average validation loss and accuracy\n",
    "    avg_val_loss = val_loss / len(val_loader)\n",
    "    val_accuracy = correct_val / total_val\n",
    "\n",
    "    # Save validation metrics\n",
    "    val_losses.append(avg_val_loss)\n",
    "    val_accuracies.append(val_accuracy)\n",
    "\n",
    "    # Save metrics to .txt files\n",
    "    with open(folder + \"train_losses.txt\", \"a\") as f:\n",
    "        f.write(f\"{avg_train_loss}\\n\")\n",
    "    with open(folder + \"train_accuracies.txt\", \"a\") as f:\n",
    "        f.write(f\"{train_accuracy}\\n\")\n",
    "    with open(folder + \"val_losses.txt\", \"a\") as f:\n",
    "        f.write(f\"{avg_val_loss}\\n\")\n",
    "    with open(folder + \"val_accuracies.txt\", \"a\") as f:\n",
    "        f.write(f\"{val_accuracy}\\n\")\n",
    "\n",
    "    # Print epoch-level summary\n",
    "    print(\n",
    "        f\"Epoch Summary: \"\n",
    "        f\"Train Loss = {avg_train_loss:.4f}, Train Accuracy = {train_accuracy:.4f}, \"\n",
    "        f\"Val Loss = {avg_val_loss:.4f}, Val Accuracy = {val_accuracy:.4f}\"\n",
    "    )\n",
    "\n",
    "    # Save the model if validation loss improves\n",
    "    if avg_val_loss < best_val_loss:\n",
    "        best_val_loss = avg_val_loss\n",
    "        torch.save(model.state_dict(), \"models/best_model.pth\")\n",
    "        print(\"Best model saved!\")\n",
    "\n",
    "print(\"\\nTraining complete!\")"
   ]
  },
  {
   "cell_type": "markdown",
   "id": "585560f9-58ed-4c6b-8d56-c40a8aecb155",
   "metadata": {},
   "source": [
    "# Evaluation"
   ]
  },
  {
   "cell_type": "code",
   "execution_count": 4,
   "id": "c0c494bc-656e-4452-82fe-e49e6f271e40",
   "metadata": {},
   "outputs": [
    {
     "name": "stdout",
     "output_type": "stream",
     "text": [
      "Accuracy of the model on test images: 0.8286\n",
      "IoU values for each class:\n",
      "Bad data: 0.5742\n",
      "Snow and Ice: 0.8909\n",
      "Wet ice and meltwater: 0.2881\n",
      "Freshwater: 0.4355\n",
      "Sediment: 0.2089\n",
      "Bedrock: 0.4037\n",
      "Vegetation: 0.8788\n",
      "Mean IoU of the model on test images: 0.5257\n"
     ]
    }
   ],
   "source": [
    "device = torch.device(\"cuda\" if torch.cuda.is_available() else \"cpu\")\n",
    "\n",
    "# Load the best model\n",
    "model = UNetResNextHyperSE(encoder_depth=50, num_classes=7, num_filters=32, dropout_2d=0.2, is_deconv=True)\n",
    "model.load_state_dict(torch.load(\"models/best_model.pth\", weights_only=False))\n",
    "model.to(device)\n",
    "model.eval()  # Set the model to evaluation mode\n",
    "\n",
    "#TEST DATA\n",
    "test_images = extract_channels(testimage_files)\n",
    "test_labels = extract_labels(testlabel_files)\n",
    "\n",
    "# Convert test data to PyTorch tensors\n",
    "test_images = torch.tensor(test_images).float().permute(0, 3, 1, 2)  # HWC to CHW\n",
    "test_labels = torch.tensor(test_labels).long()\n",
    "\n",
    "# Move data to the appropriate device\n",
    "test_images = test_images.to(device)\n",
    "test_labels = test_labels.to(device)\n",
    "\n",
    "# Predictions\n",
    "with torch.no_grad():\n",
    "    outputs = model(test_images)  # Forward pass\n",
    "    predictions = torch.argmax(outputs, dim=1).cpu().numpy()  # Convert predictions to numpy array\n",
    "    test_labels = test_labels.cpu().numpy()  # Convert labels to numpy array\n",
    "\n",
    "# Calculate accuracy\n",
    "accuracy = np.sum(predictions == test_labels) / test_labels.size\n",
    "print(f\"Accuracy of the model on test images: {accuracy:.4f}\")\n",
    "\n",
    "# Calculate IoU (Intersection over Union) for each class\n",
    "iou_values = []\n",
    "for class_id in range(7):  # Loop over all classes\n",
    "    iou = jaccard_score(\n",
    "        test_labels.flatten() == class_id,  # Flatten and binarize labels\n",
    "        predictions.flatten() == class_id,  # Flatten and binarize predictions\n",
    "        average=\"binary\"\n",
    "    )\n",
    "    iou_values.append(iou)\n",
    "\n",
    "# Print IoU for each class and mean IoU\n",
    "print(\"IoU values for each class:\")\n",
    "for i in range(len(label_names)):\n",
    "    print(f\"{label_names[i]}: {round(iou_values[i], 4)}\")\n",
    "\n",
    "mean_iou = np.mean(iou_values)\n",
    "print(f\"Mean IoU of the model on test images: {mean_iou:.4f}\")"
   ]
  },
  {
   "cell_type": "markdown",
   "id": "cf5d4230-4f7e-41fb-9de7-5ef86bffaad0",
   "metadata": {},
   "source": [
    "## Plotting"
   ]
  },
  {
   "cell_type": "code",
   "execution_count": 5,
   "id": "a051766f-576a-487a-8dbb-717ec627a27f",
   "metadata": {},
   "outputs": [],
   "source": [
    "#Load in data\n",
    "subfolder = \"best_model_training_logs/all_data_performance/\"\n",
    "metric_files = ['train_accuracies.txt', 'train_losses.txt', 'val_accuracies.txt', 'val_losses.txt']\n",
    "metrics = []\n",
    "for file in metric_files:\n",
    "    metrics.append(load_data(subfolder + file))"
   ]
  },
  {
   "cell_type": "code",
   "execution_count": 6,
   "id": "666643a6-96fd-42fc-9b54-85002470e358",
   "metadata": {},
   "outputs": [
    {
     "data": {
      "text/plain": [
       "[]"
      ]
     },
     "execution_count": 6,
     "metadata": {},
     "output_type": "execute_result"
    },
    {
     "data": {
      "image/png": "[encoded data removed]",
      "text/plain": [
       "<Figure size 640x480 with 1 Axes>"
      ]
     },
     "metadata": {},
     "output_type": "display_data"
    }
   ],
   "source": [
    "#Plot accuracies and losses\n",
    "plottables = metrics\n",
    "names = [\"train_accuracy\", \"train_loss\", \"val_accuracy\", \"val_loss\"]\n",
    "from_epoch = 0\n",
    "epoch_indices = range(len(plottables[0]))\n",
    "\n",
    "#Plot all lines\n",
    "for i in range(len(plottables)):\n",
    "    plt.plot(epoch_indices[from_epoch:], plottables[i][from_epoch:], label=names[i])\n",
    "\n",
    "#Plot test accuracy and iou\n",
    "plt.scatter(len(epoch_indices)-1,  0.829, marker='o', color=\"green\", label=f\"Test accuracy\")\n",
    "\n",
    "plt.xticks(range(from_epoch, len(plottables[0]), 2))\n",
    "plt.grid(alpha=0.3)\n",
    "    \n",
    "#Lables\n",
    "plt.title(\"Hypercolumn training with all data\", fontsize=18)\n",
    "plt.xlabel(\"Epochs\", fontsize=16)\n",
    "plt.ylabel(\"Accuracy/Loss\", fontsize=16)\n",
    "plt.legend(loc=\"upper left\", bbox_to_anchor=(1.0, 1), fontsize=13)\n",
    "plt.savefig(\"plots/Bestmodel_training\", bbox_inches='tight')\n",
    "plt.plot()"
   ]
  }
 ],
 "metadata": {
  "kernelspec": {
   "display_name": "Python 3 (ipykernel)",
   "language": "python",
   "name": "python3"
  },
  "language_info": {
   "codemirror_mode": {
    "name": "ipython",
    "version": 3
   },
   "file_extension": ".py",
   "mimetype": "text/x-python",
   "name": "python",
   "nbconvert_exporter": "python",
   "pygments_lexer": "ipython3",
   "version": "3.12.4"
  }
 },
 "nbformat": 4,
 "nbformat_minor": 5
}
