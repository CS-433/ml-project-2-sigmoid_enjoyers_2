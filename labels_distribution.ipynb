{
 "cells": [
  {
   "cell_type": "markdown",
   "id": "5f23e538-58d7-410b-85e3-3ea2efc342bc",
   "metadata": {},
   "source": [
    "# Imports and Reading Data"
   ]
  },
  {
   "cell_type": "code",
   "execution_count": 1,
   "id": "00375634-036c-46ac-95cd-23fb9d26f0ff",
   "metadata": {},
   "outputs": [],
   "source": [
    "import os\n",
    "import random\n",
    "import numpy as np\n",
    "\n",
    "import rasterio\n",
    "from glob import glob"
   ]
  },
  {
   "cell_type": "code",
   "execution_count": 2,
   "id": "81c8b2e9-fca7-44f4-a835-69fdc1995518",
   "metadata": {},
   "outputs": [],
   "source": [
    "random.seed(42)\n",
    "\n",
    "label_train = './labels/train'\n",
    "label_test = './labels/test'\n",
    "\n",
    "# Labels as categories\n",
    "label_names = [\n",
    "    \"Bad data\",\n",
    "    \"Snow and Ice\",\n",
    "    \"Wet ice and meltwater\",\n",
    "    \"Freshwater\",\n",
    "    \"Sediment\",\n",
    "    \"Bedrock\",\n",
    "    \"Vegetation\",\n",
    "    ]\n",
    "label_files = sorted(glob(os.path.join(label_train, '*.tif')))\n",
    "testlabel_files = sorted(glob(os.path.join(label_test, '*.tif')))"
   ]
  },
  {
   "cell_type": "code",
   "execution_count": 3,
   "id": "1a830c69-0a0a-4a66-a939-9ac100618a44",
   "metadata": {},
   "outputs": [],
   "source": [
    "#Extract the labels of all files in filelist (1 channel)\n",
    "def extract_labels(fileList):\n",
    "    labels = []\n",
    "    for filename in fileList:\n",
    "        with rasterio.open(filename) as src:\n",
    "            data = src.read(1)\n",
    "            labels.append(data)\n",
    "    return np.array(labels)"
   ]
  },
  {
   "cell_type": "code",
   "execution_count": 4,
   "id": "06762adf-eefd-4728-976f-1d40cdb9fec8",
   "metadata": {},
   "outputs": [],
   "source": [
    "train_labels = extract_labels(label_files)\n",
    "test_labels = extract_labels(testlabel_files)"
   ]
  },
  {
   "cell_type": "markdown",
   "id": "69a55fb7-fdc5-4512-98d4-b07298739b16",
   "metadata": {},
   "source": [
    "# Label Distributions for Train and Test"
   ]
  },
  {
   "cell_type": "code",
   "execution_count": 11,
   "id": "ea1e7b6a-3126-4b90-a7da-2b1933f617bc",
   "metadata": {},
   "outputs": [
    {
     "name": "stdout",
     "output_type": "stream",
     "text": [
      "Bad data                Train:  10.08%  Test:   11.6%\n",
      "Snow and Ice            Train:  25.45%  Test:  18.86%\n",
      "Wet ice and meltwater   Train:   4.68%  Test:   4.74%\n",
      "Freshwater              Train:   5.29%  Test:   7.51%\n",
      "Sediment                Train:   5.08%  Test:    2.8%\n",
      "Bedrock                 Train:  29.66%  Test:   8.35%\n",
      "Vegetation              Train:  19.75%  Test:  46.14%\n"
     ]
    }
   ],
   "source": [
    "#Get the value counts for all the labels in training and test data\n",
    "train_size = train_labels.size\n",
    "test_size = test_labels.size\n",
    "train_values, train_counts = np.unique(train_labels, return_counts=True)\n",
    "test_values, test_counts = np.unique(test_labels, return_counts=True)\n",
    "\n",
    "for i in range(len(label_names)):\n",
    "    print(f\"{label_names[i]:<{23}} Train: {round(train_counts[i] / train_size * 100, 2):>6}%  Test: {round(test_counts[i] / test_size * 100, 2):>6}%\")"
   ]
  }
 ],
 "metadata": {
  "kernelspec": {
   "display_name": "Python 3 (ipykernel)",
   "language": "python",
   "name": "python3"
  },
  "language_info": {
   "codemirror_mode": {
    "name": "ipython",
    "version": 3
   },
   "file_extension": ".py",
   "mimetype": "text/x-python",
   "name": "python",
   "nbconvert_exporter": "python",
   "pygments_lexer": "ipython3",
   "version": "3.12.4"
  }
 },
 "nbformat": 4,
 "nbformat_minor": 5
}
