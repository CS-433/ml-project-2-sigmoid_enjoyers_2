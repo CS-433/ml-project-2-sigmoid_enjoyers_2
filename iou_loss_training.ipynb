{
 "cells": [
  {
   "cell_type": "markdown",
   "id": "e4d9f349-83c4-4919-b5a2-8ff6b53088c8",
   "metadata": {},
   "source": [
    "# Imports / Setup"
   ]
  },
  {
   "cell_type": "code",
   "execution_count": 1,
   "id": "6c36dd05-c74e-41f6-961a-bcbf8c2a2dd5",
   "metadata": {},
   "outputs": [
    {
     "name": "stdout",
     "output_type": "stream",
     "text": [
      "Segmentation Models: using `tf.keras` framework.\n"
     ]
    }
   ],
   "source": [
    "import os\n",
    "os.environ[\"SM_FRAMEWORK\"] = \"tf.keras\"\n",
    "import random\n",
    "import numpy as np\n",
    "import matplotlib.pyplot as plt\n",
    "import matplotlib.patches as mpatches\n",
    "\n",
    "from glob import glob\n",
    "\n",
    "#U-Net\n",
    "import tensorflow as tf\n",
    "from segmentation_models import Unet\n",
    "from tensorflow.keras.optimizers import Adam\n",
    "from tensorflow.keras.callbacks import ModelCheckpoint\n",
    "from tensorflow.keras.models import load_model\n",
    "\n",
    "from tensorflow.keras.metrics import MeanIoU\n",
    "\n",
    "\n",
    "#Self-written helper functions\n",
    "from helpers.general_helpers import *"
   ]
  },
  {
   "cell_type": "code",
   "execution_count": 2,
   "id": "988146a9-4e8b-4fd1-af9a-84790ffd82ce",
   "metadata": {},
   "outputs": [],
   "source": [
    "#For reproducibility\n",
    "seed = 42\n",
    "np.random.seed(seed)\n",
    "random.seed(seed)\n",
    "tf.random.set_seed(seed)\n",
    "tf.config.experimental.enable_op_determinism()"
   ]
  },
  {
   "cell_type": "code",
   "execution_count": 3,
   "id": "68adedb9-23dc-4cc6-b7b4-9f4a0bb5f236",
   "metadata": {},
   "outputs": [],
   "source": [
    "#For reproducibility\n",
    "seed = 42\n",
    "np.random.seed(seed)\n",
    "random.seed(seed)\n",
    "tf.random.set_seed(seed)\n",
    "tf.config.experimental.enable_op_determinism()"
   ]
  },
  {
   "cell_type": "code",
   "execution_count": 6,
   "id": "df61f65c-06aa-4210-8ead-dfb2c15e2029",
   "metadata": {},
   "outputs": [],
   "source": [
    "# Labels as categories\n",
    "label_names = [\n",
    "    \"Bad data\",\n",
    "    \"Snow and Ice\",\n",
    "    \"Wet ice and meltwater\",\n",
    "    \"Freshwater\",\n",
    "    \"Sediment\",\n",
    "    \"Bedrock\",\n",
    "    \"Vegetation\",\n",
    "    ]\n",
    "\n",
    "#Location of test files\n",
    "testimage_dir = './images/test/2023'\n",
    "label_test = './labels/test'\n",
    "\n",
    "# Get names of image and label files for test\n",
    "testimage_files = sorted(glob(os.path.join(testimage_dir, '*.tif')))\n",
    "testlabel_files = sorted(glob(os.path.join(label_test, '*.tif')))"
   ]
  },
  {
   "cell_type": "markdown",
   "id": "1e915ebc-2eab-449e-bf5a-0e45a31f3ade",
   "metadata": {},
   "source": [
    "# Reading data"
   ]
  },
  {
   "cell_type": "markdown",
   "id": "5c10a031-6565-4407-9f9a-a8cae10bdf88",
   "metadata": {},
   "source": [
    "## Data augmentation\n",
    "Run only once (in total for all notebooks). Saves the data in training-ready format to cache/"
   ]
  },
  {
   "cell_type": "code",
   "execution_count": 4,
   "id": "65701f55-65df-4e5c-b8a2-c749041d2f58",
   "metadata": {},
   "outputs": [],
   "source": [
    "#%run data_preprocessing.ipynb"
   ]
  },
  {
   "cell_type": "markdown",
   "id": "516b4801-3fc4-4d0c-81f0-c53354bd93a2",
   "metadata": {},
   "source": [
    "## Training and Test Data\n",
    "Our best results were received on all of the data in an unaugmented state"
   ]
  },
  {
   "cell_type": "code",
   "execution_count": 7,
   "id": "4a999b28-39e9-490e-a9ce-e2c33a3b7864",
   "metadata": {},
   "outputs": [],
   "source": [
    "# ALL YEARS DATA\n",
    "data = np.load(\"cache/unchanged_data_all_years.npz\")\n",
    "train_data_all_years = data['train_data']\n",
    "train_labels_all_years = data['train_labels']\n",
    "val_data_all_years = data['val_data']\n",
    "val_labels_all_years = data['val_labels']\n",
    "\n",
    "del data #For memory preservation\n",
    "\n",
    "#TEST DATA\n",
    "test_images = extract_channels(testimage_files)\n",
    "test_labels = extract_labels(testlabel_files)"
   ]
  },
  {
   "cell_type": "markdown",
   "id": "05fcb4e3-d458-4e4b-9e0d-7e6bf327002b",
   "metadata": {},
   "source": [
    "# Training"
   ]
  },
  {
   "cell_type": "markdown",
   "id": "8d20ac60-cf14-47ae-9079-019f9d03eec8",
   "metadata": {},
   "source": [
    "## Variables"
   ]
  },
  {
   "cell_type": "code",
   "execution_count": 14,
   "id": "0a941037-5fd8-4ed0-8790-05f1c48f5bd3",
   "metadata": {},
   "outputs": [],
   "source": [
    "#Variables\n",
    "#Early stopping to avoid overfitting\n",
    "early_stopping = tf.keras.callbacks.EarlyStopping(\n",
    "    monitor='val_loss',\n",
    "    min_delta=0.005,\n",
    "    patience=4,\n",
    "    verbose=0,\n",
    "    mode='auto',\n",
    "    baseline=None,\n",
    "    restore_best_weights=False,\n",
    "    start_from_epoch=0\n",
    ")\n",
    "# For saving the best version of the model\n",
    "checkpoint = ModelCheckpoint(\n",
    "    filepath='iou_focused.keras', \n",
    "    monitor='val_loss',       \n",
    "    save_best_only=True,     \n",
    "    save_weights_only=False,  \n",
    "    mode='auto',             \n",
    "    verbose=1                 \n",
    ")"
   ]
  },
  {
   "cell_type": "markdown",
   "id": "de5811fe-6159-4fc5-a282-30bcbb29c4e2",
   "metadata": {},
   "source": [
    "## Setting up model"
   ]
  },
  {
   "cell_type": "code",
   "execution_count": 15,
   "id": "40f7e702-5a52-4864-99a5-50aff50ec74a",
   "metadata": {},
   "outputs": [],
   "source": [
    "unet = Unet('resnet34', input_shape=(128, 128, 7), encoder_weights=None, classes = 7, activation = 'softmax')"
   ]
  },
  {
   "cell_type": "code",
   "execution_count": 16,
   "id": "d77d929e-4b23-422a-8750-e58fd6f4ef44",
   "metadata": {},
   "outputs": [],
   "source": [
    "#Code won't run without this\n",
    "tf.compat.v1.reset_default_graph()"
   ]
  },
  {
   "cell_type": "code",
   "execution_count": 26,
   "id": "2780a874-e25b-46fb-90aa-b110227c23f1",
   "metadata": {},
   "outputs": [],
   "source": [
    "# Custom function for calculating iou to be 100% sure it is calculated correctly\n",
    "# (unsure if tensorflow handles iou in one-hot data case)\n",
    "# Takes the true values and predictions, cycles through all classes calcualting the iou for it, returns mean\n",
    "def custom_iou(y_true, y_pred, num_classes = 7):\n",
    "    #Undo one-hot encoding\n",
    "    y_pred_classes = tf.argmax(y_pred, axis=-1)\n",
    "    y_true_classes = tf.argmax(y_true, axis=-1)\n",
    "    ious = []\n",
    "    for i in range(num_classes):\n",
    "        #Where both are this class\n",
    "        intersection = tf.reduce_sum(tf.cast((y_pred_classes == i) & (y_true_classes == i), tf.float32))\n",
    "        #Where at least one is this class\n",
    "        union = tf.reduce_sum(tf.cast((y_pred_classes == i) | (y_true_classes == i), tf.float32))\n",
    "        ious.append(intersection / (union + tf.keras.backend.epsilon()))\n",
    "    return tf.reduce_mean(ious)\n",
    "\n",
    "#Differentiable version of iou calculation. Essentially flattens the arrays so that each pixel has a single\n",
    "#One-hot encoded field. Calculates union by multiplying (1 only where both 1) and union by adding and subtracting\n",
    "#so that in case of union would not be 2\n",
    "def iou_loss(y_true, y_pred):\n",
    "    #Get the array of pixels one by one\n",
    "    y_true = tf.reshape(y_true, [-1, y_true.shape[-1]])\n",
    "    y_pred = tf.reshape(y_pred, [-1, y_pred.shape[-1]])\n",
    "\n",
    "    intersection = tf.reduce_sum(y_true * y_pred, axis=0)  # Intersection per class\n",
    "    union = tf.reduce_sum(y_true + y_pred, axis=0) - intersection  # Union per class\n",
    "\n",
    "    iou_per_class = intersection / (union + tf.keras.backend.epsilon())\n",
    "    return 1 - tf.reduce_mean(iou_per_class)\n",
    "\n",
    "callbacks = [early_stopping, checkpoint]"
   ]
  },
  {
   "cell_type": "code",
   "execution_count": 27,
   "id": "a3ceee7e-80b8-473c-b6c2-1e2efb8e99c5",
   "metadata": {},
   "outputs": [],
   "source": [
    "unet.compile(\n",
    "    optimizer=Adam(learning_rate=1e-4),\n",
    "    loss=iou_loss,\n",
    "    metrics=['accuracy', custom_iou]\n",
    ")"
   ]
  },
  {
   "cell_type": "code",
   "execution_count": 28,
   "id": "2be9eacd-1362-43f8-bea9-9f388776525f",
   "metadata": {},
   "outputs": [],
   "source": [
    "X_train = train_data_all_years\n",
    "y_train = train_labels_all_years\n",
    "X_val = val_data_all_years\n",
    "y_val = val_labels_all_years"
   ]
  },
  {
   "cell_type": "markdown",
   "id": "30a1f7dd-d4f1-4c96-ab10-7470c2603f91",
   "metadata": {},
   "source": [
    "## Training Process"
   ]
  },
  {
   "cell_type": "code",
   "execution_count": 29,
   "id": "ea3c53ca-92b8-4f02-964d-bd0e465df547",
   "metadata": {},
   "outputs": [
    {
     "name": "stdout",
     "output_type": "stream",
     "text": [
      "Epoch 1/50\n",
      "\u001b[1m225/225\u001b[0m \u001b[32m━━━━━━━━━━━━━━━━━━━━\u001b[0m\u001b[37m\u001b[0m \u001b[1m0s\u001b[0m 717ms/step - accuracy: 0.4705 - custom_iou: 0.2561 - loss: 0.8327\n",
      "Epoch 1: val_loss improved from inf to 0.66149, saving model to iou_focused.keras\n",
      "\u001b[1m225/225\u001b[0m \u001b[32m━━━━━━━━━━━━━━━━━━━━\u001b[0m\u001b[37m\u001b[0m \u001b[1m212s\u001b[0m 792ms/step - accuracy: 0.4710 - custom_iou: 0.2565 - loss: 0.8323 - val_accuracy: 0.7327 - val_custom_iou: 0.4718 - val_loss: 0.6615\n",
      "Epoch 2/50\n",
      "\u001b[1m225/225\u001b[0m \u001b[32m━━━━━━━━━━━━━━━━━━━━\u001b[0m\u001b[37m\u001b[0m \u001b[1m0s\u001b[0m 691ms/step - accuracy: 0.7228 - custom_iou: 0.4715 - loss: 0.6147\n",
      "Epoch 2: val_loss improved from 0.66149 to 0.52425, saving model to iou_focused.keras\n",
      "\u001b[1m225/225\u001b[0m \u001b[32m━━━━━━━━━━━━━━━━━━━━\u001b[0m\u001b[37m\u001b[0m \u001b[1m167s\u001b[0m 741ms/step - accuracy: 0.7229 - custom_iou: 0.4716 - loss: 0.6146 - val_accuracy: 0.7739 - val_custom_iou: 0.5181 - val_loss: 0.5242\n",
      "Epoch 3/50\n",
      "\u001b[1m225/225\u001b[0m \u001b[32m━━━━━━━━━━━━━━━━━━━━\u001b[0m\u001b[37m\u001b[0m \u001b[1m0s\u001b[0m 697ms/step - accuracy: 0.7609 - custom_iou: 0.5151 - loss: 0.5241\n",
      "Epoch 3: val_loss improved from 0.52425 to 0.46496, saving model to iou_focused.keras\n",
      "\u001b[1m225/225\u001b[0m \u001b[32m━━━━━━━━━━━━━━━━━━━━\u001b[0m\u001b[37m\u001b[0m \u001b[1m168s\u001b[0m 747ms/step - accuracy: 0.7609 - custom_iou: 0.5152 - loss: 0.5240 - val_accuracy: 0.7925 - val_custom_iou: 0.5587 - val_loss: 0.4650\n",
      "Epoch 4/50\n",
      "\u001b[1m225/225\u001b[0m \u001b[32m━━━━━━━━━━━━━━━━━━━━\u001b[0m\u001b[37m\u001b[0m \u001b[1m0s\u001b[0m 690ms/step - accuracy: 0.7703 - custom_iou: 0.5273 - loss: 0.4960\n",
      "Epoch 4: val_loss improved from 0.46496 to 0.44507, saving model to iou_focused.keras\n",
      "\u001b[1m225/225\u001b[0m \u001b[32m━━━━━━━━━━━━━━━━━━━━\u001b[0m\u001b[37m\u001b[0m \u001b[1m167s\u001b[0m 741ms/step - accuracy: 0.7703 - custom_iou: 0.5274 - loss: 0.4959 - val_accuracy: 0.8065 - val_custom_iou: 0.5692 - val_loss: 0.4451\n",
      "Epoch 5/50\n",
      "\u001b[1m225/225\u001b[0m \u001b[32m━━━━━━━━━━━━━━━━━━━━\u001b[0m\u001b[37m\u001b[0m \u001b[1m0s\u001b[0m 687ms/step - accuracy: 0.7847 - custom_iou: 0.5483 - loss: 0.4686\n",
      "Epoch 5: val_loss improved from 0.44507 to 0.42829, saving model to iou_focused.keras\n",
      "\u001b[1m225/225\u001b[0m \u001b[32m━━━━━━━━━━━━━━━━━━━━\u001b[0m\u001b[37m\u001b[0m \u001b[1m166s\u001b[0m 737ms/step - accuracy: 0.7847 - custom_iou: 0.5483 - loss: 0.4686 - val_accuracy: 0.8120 - val_custom_iou: 0.5823 - val_loss: 0.4283\n",
      "Epoch 6/50\n",
      "\u001b[1m225/225\u001b[0m \u001b[32m━━━━━━━━━━━━━━━━━━━━\u001b[0m\u001b[37m\u001b[0m \u001b[1m0s\u001b[0m 685ms/step - accuracy: 0.7910 - custom_iou: 0.5593 - loss: 0.4540\n",
      "Epoch 6: val_loss did not improve from 0.42829\n",
      "\u001b[1m225/225\u001b[0m \u001b[32m━━━━━━━━━━━━━━━━━━━━\u001b[0m\u001b[37m\u001b[0m \u001b[1m164s\u001b[0m 731ms/step - accuracy: 0.7910 - custom_iou: 0.5593 - loss: 0.4540 - val_accuracy: 0.8057 - val_custom_iou: 0.5746 - val_loss: 0.4355\n",
      "Epoch 7/50\n",
      "\u001b[1m225/225\u001b[0m \u001b[32m━━━━━━━━━━━━━━━━━━━━\u001b[0m\u001b[37m\u001b[0m \u001b[1m0s\u001b[0m 688ms/step - accuracy: 0.7912 - custom_iou: 0.5571 - loss: 0.4542\n",
      "Epoch 7: val_loss did not improve from 0.42829\n",
      "\u001b[1m225/225\u001b[0m \u001b[32m━━━━━━━━━━━━━━━━━━━━\u001b[0m\u001b[37m\u001b[0m \u001b[1m165s\u001b[0m 733ms/step - accuracy: 0.7912 - custom_iou: 0.5571 - loss: 0.4542 - val_accuracy: 0.8087 - val_custom_iou: 0.5653 - val_loss: 0.4400\n",
      "Epoch 8/50\n",
      "\u001b[1m225/225\u001b[0m \u001b[32m━━━━━━━━━━━━━━━━━━━━\u001b[0m\u001b[37m\u001b[0m \u001b[1m0s\u001b[0m 688ms/step - accuracy: 0.7988 - custom_iou: 0.5700 - loss: 0.4395\n",
      "Epoch 8: val_loss did not improve from 0.42829\n",
      "\u001b[1m225/225\u001b[0m \u001b[32m━━━━━━━━━━━━━━━━━━━━\u001b[0m\u001b[37m\u001b[0m \u001b[1m165s\u001b[0m 733ms/step - accuracy: 0.7988 - custom_iou: 0.5700 - loss: 0.4395 - val_accuracy: 0.8022 - val_custom_iou: 0.5585 - val_loss: 0.4471\n",
      "Epoch 9/50\n",
      "\u001b[1m225/225\u001b[0m \u001b[32m━━━━━━━━━━━━━━━━━━━━\u001b[0m\u001b[37m\u001b[0m \u001b[1m0s\u001b[0m 687ms/step - accuracy: 0.7967 - custom_iou: 0.5647 - loss: 0.4430\n",
      "Epoch 9: val_loss improved from 0.42829 to 0.40974, saving model to iou_focused.keras\n",
      "\u001b[1m225/225\u001b[0m \u001b[32m━━━━━━━━━━━━━━━━━━━━\u001b[0m\u001b[37m\u001b[0m \u001b[1m166s\u001b[0m 737ms/step - accuracy: 0.7967 - custom_iou: 0.5647 - loss: 0.4430 - val_accuracy: 0.8227 - val_custom_iou: 0.5949 - val_loss: 0.4097\n",
      "Epoch 10/50\n",
      "\u001b[1m225/225\u001b[0m \u001b[32m━━━━━━━━━━━━━━━━━━━━\u001b[0m\u001b[37m\u001b[0m \u001b[1m0s\u001b[0m 682ms/step - accuracy: 0.8031 - custom_iou: 0.5787 - loss: 0.4285\n",
      "Epoch 10: val_loss improved from 0.40974 to 0.40722, saving model to iou_focused.keras\n",
      "\u001b[1m225/225\u001b[0m \u001b[32m━━━━━━━━━━━━━━━━━━━━\u001b[0m\u001b[37m\u001b[0m \u001b[1m165s\u001b[0m 732ms/step - accuracy: 0.8031 - custom_iou: 0.5787 - loss: 0.4285 - val_accuracy: 0.8228 - val_custom_iou: 0.5963 - val_loss: 0.4072\n",
      "Epoch 11/50\n",
      "\u001b[1m225/225\u001b[0m \u001b[32m━━━━━━━━━━━━━━━━━━━━\u001b[0m\u001b[37m\u001b[0m \u001b[1m0s\u001b[0m 682ms/step - accuracy: 0.8051 - custom_iou: 0.5818 - loss: 0.4245\n",
      "Epoch 11: val_loss improved from 0.40722 to 0.40312, saving model to iou_focused.keras\n",
      "\u001b[1m225/225\u001b[0m \u001b[32m━━━━━━━━━━━━━━━━━━━━\u001b[0m\u001b[37m\u001b[0m \u001b[1m165s\u001b[0m 732ms/step - accuracy: 0.8051 - custom_iou: 0.5818 - loss: 0.4245 - val_accuracy: 0.8236 - val_custom_iou: 0.6006 - val_loss: 0.4031\n",
      "Epoch 12/50\n",
      "\u001b[1m225/225\u001b[0m \u001b[32m━━━━━━━━━━━━━━━━━━━━\u001b[0m\u001b[37m\u001b[0m \u001b[1m0s\u001b[0m 691ms/step - accuracy: 0.8074 - custom_iou: 0.5855 - loss: 0.4203\n",
      "Epoch 12: val_loss did not improve from 0.40312\n",
      "\u001b[1m225/225\u001b[0m \u001b[32m━━━━━━━━━━━━━━━━━━━━\u001b[0m\u001b[37m\u001b[0m \u001b[1m166s\u001b[0m 736ms/step - accuracy: 0.8074 - custom_iou: 0.5855 - loss: 0.4204 - val_accuracy: 0.8192 - val_custom_iou: 0.5916 - val_loss: 0.4120\n",
      "Epoch 13/50\n",
      "\u001b[1m225/225\u001b[0m \u001b[32m━━━━━━━━━━━━━━━━━━━━\u001b[0m\u001b[37m\u001b[0m \u001b[1m0s\u001b[0m 685ms/step - accuracy: 0.8088 - custom_iou: 0.5882 - loss: 0.4171\n",
      "Epoch 13: val_loss did not improve from 0.40312\n",
      "\u001b[1m225/225\u001b[0m \u001b[32m━━━━━━━━━━━━━━━━━━━━\u001b[0m\u001b[37m\u001b[0m \u001b[1m164s\u001b[0m 730ms/step - accuracy: 0.8089 - custom_iou: 0.5882 - loss: 0.4171 - val_accuracy: 0.8005 - val_custom_iou: 0.5562 - val_loss: 0.4464\n",
      "Epoch 14/50\n",
      "\u001b[1m225/225\u001b[0m \u001b[32m━━━━━━━━━━━━━━━━━━━━\u001b[0m\u001b[37m\u001b[0m \u001b[1m0s\u001b[0m 686ms/step - accuracy: 0.8043 - custom_iou: 0.5788 - loss: 0.4262\n",
      "Epoch 14: val_loss did not improve from 0.40312\n",
      "\u001b[1m225/225\u001b[0m \u001b[32m━━━━━━━━━━━━━━━━━━━━\u001b[0m\u001b[37m\u001b[0m \u001b[1m165s\u001b[0m 731ms/step - accuracy: 0.8043 - custom_iou: 0.5788 - loss: 0.4262 - val_accuracy: 0.7926 - val_custom_iou: 0.5443 - val_loss: 0.4593\n",
      "Epoch 15/50\n",
      "\u001b[1m225/225\u001b[0m \u001b[32m━━━━━━━━━━━━━━━━━━━━\u001b[0m\u001b[37m\u001b[0m \u001b[1m0s\u001b[0m 684ms/step - accuracy: 0.8024 - custom_iou: 0.5725 - loss: 0.4319\n",
      "Epoch 15: val_loss did not improve from 0.40312\n",
      "\u001b[1m225/225\u001b[0m \u001b[32m━━━━━━━━━━━━━━━━━━━━\u001b[0m\u001b[37m\u001b[0m \u001b[1m164s\u001b[0m 729ms/step - accuracy: 0.8024 - custom_iou: 0.5726 - loss: 0.4318 - val_accuracy: 0.8178 - val_custom_iou: 0.5881 - val_loss: 0.4150\n"
     ]
    }
   ],
   "source": [
    "hist = unet.fit(X_train, y_train, batch_size = 16, epochs = 50, validation_data=(X_val, y_val), callbacks = callbacks)"
   ]
  },
  {
   "cell_type": "markdown",
   "id": "43228ca5-85eb-4573-9a02-b1d303492d06",
   "metadata": {},
   "source": [
    "## Evaluation"
   ]
  },
  {
   "cell_type": "code",
   "execution_count": 32,
   "id": "f3ee586f-7883-40db-82ed-2041977b8ef5",
   "metadata": {},
   "outputs": [
    {
     "name": "stdout",
     "output_type": "stream",
     "text": [
      "\u001b[1m16/16\u001b[0m \u001b[32m━━━━━━━━━━━━━━━━━━━━\u001b[0m\u001b[37m\u001b[0m \u001b[1m9s\u001b[0m 412ms/step\n",
      "Accuracy of hypercolumns all data model: 0.7963695068359375\n",
      "Intersection over union of hypercolumns all data model: 0.45505425333976746\n"
     ]
    }
   ],
   "source": [
    "#Load best model\n",
    "custom_objects = {'iou_loss': iou_loss, 'custom_iou': custom_iou}\n",
    "best_model = load_model('iou_focused.keras',custom_objects = custom_objects )\n",
    "\n",
    "#Predict and transform back to how the data originally was\n",
    "predictions = best_model.predict(test_images)\n",
    "prediction_values = array_to_int(predictions)\n",
    "\n",
    "#Calculate accuracy\n",
    "acc = np.sum(prediction_values == test_labels) / prediction_values.size\n",
    "print(f\"Accuracy of hypercolumns all data model: {acc}\")\n",
    "\n",
    "# Calculate IOU\n",
    "iou_metric = tf.keras.metrics.MeanIoU(num_classes=7)\n",
    "iou_metric.update_state(test_labels, prediction_values)\n",
    "iou_values = iou_metric.result().numpy()\n",
    "print(f\"Intersection over union of hypercolumns all data model: {iou_values}\")"
   ]
  },
  {
   "cell_type": "markdown",
   "id": "4ccbb4fa-21ed-4187-bfeb-80dd29a7f11f",
   "metadata": {},
   "source": [
    "## Plotting"
   ]
  },
  {
   "cell_type": "code",
   "execution_count": 38,
   "id": "e2710b13-4833-4857-95ee-9f43f38c1dd1",
   "metadata": {},
   "outputs": [],
   "source": [
    "#Read the training info from \"training_logs/iou_focused.txt\"\n",
    "train_accuracies = []\n",
    "train_ious = []\n",
    "train_losses = []\n",
    "val_accuracies = []\n",
    "val_ious = []\n",
    "val_losses = []\n",
    "with open(\"training_logs/iou_focused.txt\", \"r\", encoding=\"utf-8\") as file:\n",
    "    lines = file.readlines()\n",
    "    for i in range(3,len(lines),4):\n",
    "        line = lines[i]\n",
    "        if line[0] != \"E\": #Ignore epoch line\n",
    "            lineparts = line.split(\"-\")\n",
    "            train_accuracies.append(float(lineparts[1].split()[1]))\n",
    "            train_ious.append(float(lineparts[2].split()[1]))\n",
    "            train_losses.append(float(lineparts[3].split()[1]))\n",
    "            val_accuracies.append(float(lineparts[4].split()[1]))\n",
    "            val_ious.append(float(lineparts[5].split()[1]))\n",
    "            val_losses.append(float(lineparts[6].split()[1]))"
   ]
  },
  {
   "cell_type": "code",
   "execution_count": 72,
   "id": "bf08af19-6799-4a95-8596-812a04e24b61",
   "metadata": {},
   "outputs": [
    {
     "data": {
      "text/plain": [
       "[]"
      ]
     },
     "execution_count": 72,
     "metadata": {},
     "output_type": "execute_result"
    },
    {
     "data": {
      "image/png": "[encoded data removed]",
      "text/plain": [
       "<Figure size 640x480 with 1 Axes>"
      ]
     },
     "metadata": {},
     "output_type": "display_data"
    }
   ],
   "source": [
    "#Plot accuracies and ious\n",
    "plottables = [train_accuracies, train_ious, val_accuracies, val_ious]\n",
    "names = [\"train_accuracy\", \"train_iou\", \"val_accuracy\", \"val_iou\"]\n",
    "from_epoch = 1\n",
    "epoch_indices = range(len(plottables[0]))\n",
    "\n",
    "\n",
    "#Plot all lines\n",
    "for i in range(len(plottables)):\n",
    "    plt.plot(epoch_indices[from_epoch:], plottables[i][from_epoch:], label=names[i])\n",
    "\n",
    "#Plot test accuracy and iou\n",
    "plt.scatter(len(epoch_indices)-5, 0.796, marker='o', color=\"green\", label=f\"Test accuracy\")\n",
    "plt.scatter(len(epoch_indices)-5, 0.455, marker='o', color=\"red\", label=f\"Test iou\")\n",
    "\n",
    "#Add a dotted line where the model was extracted\n",
    "plt.axvline(x=len(epoch_indices)-5, color=\"black\", linestyle=\"dotted\", linewidth=1.5, label=\"Epoch where model\\nwas extracted\")\n",
    "\n",
    "plt.xticks(range(from_epoch, len(plottables[0]), 2))\n",
    "plt.grid(alpha=0.3)\n",
    "    \n",
    "#Lables\n",
    "plt.title(\"U-net training with soft IOU loss\")\n",
    "plt.xlabel(\"Epochs\")\n",
    "plt.ylabel(\"Accuracy/IOU\")\n",
    "plt.legend(loc=\"upper left\", bbox_to_anchor=(1.05, 1))\n",
    "plt.savefig(\"Unet_iouloss_training\", bbox_inches='tight')\n",
    "plt.plot()"
   ]
  },
  {
   "cell_type": "code",
   "execution_count": null,
   "id": "c3fb5184-052e-4051-b6ed-7a5b1b02d47d",
   "metadata": {},
   "outputs": [],
   "source": []
  }
 ],
 "metadata": {
  "kernelspec": {
   "display_name": "Python 3 (ipykernel)",
   "language": "python",
   "name": "python3"
  },
  "language_info": {
   "codemirror_mode": {
    "name": "ipython",
    "version": 3
   },
   "file_extension": ".py",
   "mimetype": "text/x-python",
   "name": "python",
   "nbconvert_exporter": "python",
   "pygments_lexer": "ipython3",
   "version": "3.12.4"
  }
 },
 "nbformat": 4,
 "nbformat_minor": 5
}
